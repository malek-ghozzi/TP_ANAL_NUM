{
 "cells": [
  {
   "cell_type": "markdown",
   "metadata": {},
   "source": [
    "<img src=\"tp3.jpg\" width=1000 height=1000>"
   ]
  },
  {
   "cell_type": "markdown",
   "metadata": {},
   "source": [
    "<FONT color=\"#FFB6C1\" size=\"15\">Partie théorique: </FONT>\n"
   ]
  },
  {
   "cell_type": "markdown",
   "metadata": {},
   "source": [
    "<FONT color=\"#6A5ACD\" size=\"8\">Méthode de Réctangle:</FONT>"
   ]
  },
  {
   "cell_type": "markdown",
   "metadata": {},
   "source": [
    "<FONT FACE=\"Arial, Helvetica, sans-serif\" size=\"4\">Cette méthode, très élémentaire, basée sur les sommes de Cauchy-Riemann (approchant l'aire sous une courbe) et appliquée à une fonction f continue, permet le calcul approché d'intégrales en choisissant une subdivision régulière de pas         xi+1 - xi = (b - a)/n, donc indépendant de i avec une valeur de n \"suffisamment grande\".</FONT>"
   ]
  },
  {
   "cell_type": "markdown",
   "metadata": {},
   "source": [
    "  <FONT FACE=\"Arial, Helvetica, sans-serif\" size=\"4\">On obtient une succession de rectangles en rose ci-contre, d'où le nom de cette méthode, approchant l'aire sous la courbe,  où ci est choisi ici au \"milieu\" de [xi ; xi+1]. On calcule :</FONT>"
   ]
  },
  {
   "cell_type": "markdown",
   "metadata": {},
   "source": [
    "<FONT FACE=\"Arial, Helvetica, sans-serif\" size=\"4\"> Sn = h × Σf(ci) , i variant de 0 à n - 1</FONT>\n"
   ]
  },
  {
   "cell_type": "markdown",
   "metadata": {},
   "source": [
    "<FONT FACE=\"Arial, Helvetica, sans-serif\" size=\"4\">avec : h = (b - a)/n , xi = a + i.h , ci = (xi+1 + xi)/2 = a + ih + h/2. Le passage à la limite fournit l'intégrale cherchée</FONT>"
   ]
  },
  {
   "cell_type": "markdown",
   "metadata": {},
   "source": [
    "<img src=\"rectoongle.jpg\" width=500 height=500>"
   ]
  },
  {
   "cell_type": "markdown",
   "metadata": {},
   "source": [
    "<FONT color=\"#6A5ACD\" size=\"8\">Méthode des trapèzes:</FONT>\n",
    " "
   ]
  },
  {
   "cell_type": "markdown",
   "metadata": {},
   "source": [
    "<FONT FACE=\"Arial, Helvetica, sans-serif\" size=\"4\">En analyse numérique, la méthode des trapèzes est une méthode pour le calcul numérique d'une intégrale ,s'appuyant sur l'interpolation linéaire par intervalles.</FONT>"
   ]
  },
  {
   "cell_type": "markdown",
   "metadata": {},
   "source": [
    "<img src=\"int.jpg\" width=100 height=100>"
   ]
  },
  {
   "cell_type": "markdown",
   "metadata": {},
   "source": [
    "<img src=\"trapez.jpg\" width=500 height=500>"
   ]
  },
  {
   "cell_type": "markdown",
   "metadata": {},
   "source": [
    "<FONT FACE=\"Arial, Helvetica, sans-serif\" size=\"4\">Le principe est d'assimiler la région sous la courbe représentative d'une fonction f définie sur un segment [a , b] à un trapèze et d'en calculer l'aire T :</FONT>"
   ]
  },
  {
   "cell_type": "markdown",
   "metadata": {},
   "source": [
    "<img src=\"t.jpg\" width=200 height=200>"
   ]
  },
  {
   "cell_type": "markdown",
   "metadata": {},
   "source": [
    "<img src=\"Trapezium2.gif\" width=\"750\" align=\"center\">"
   ]
  },
  {
   "cell_type": "markdown",
   "metadata": {},
   "source": [
    "<FONT color=\"#6A5ACD\" size=\"8\">Méthode de simpson:</FONT> "
   ]
  },
  {
   "cell_type": "markdown",
   "metadata": {},
   "source": [
    "<FONT FACE=\"Arial, Helvetica, sans-serif\" size=\"4\">En analyse numérique, la méthode de Simpson, du nom de Thomas Simpson, est une technique de calcul numérique d'une intégrale, c'est-à-dire, le calcul approché de:\n",
    "En analyse numérique, la méthode de Simpson, du nom de Thomas Simpson, est une technique de calcul numérique d'une intégrale, c'est-à-dire, le calcul approché de:</FONT>\n"
   ]
  },
  {
   "cell_type": "markdown",
   "metadata": {},
   "source": [
    "<img src=\"int.jpg\" width=100 height=100>"
   ]
  },
  {
   "cell_type": "markdown",
   "metadata": {},
   "source": [
    "<FONT FACE=\"Arial, Helvetica, sans-serif\" size=\"4\">Cette méthode utilise l'approximation d'ordre 2 de f par un polynôme quadratique P prenant les mêmes valeurs que f aux points d'abscisse a, b et m = (a + b)⁄2. Pour déterminer l'expression de cette parabole (polynôme de degré 2), on utilise l'interpolation lagrangienne. Le résultat peut être mis sous la forme :</FONT>\n",
    "\n"
   ]
  },
  {
   "cell_type": "markdown",
   "metadata": {},
   "source": [
    "<img src=\"px.jpg\" width=500 height=500>"
   ]
  },
  {
   "cell_type": "markdown",
   "metadata": {},
   "source": [
    "<FONT FACE=\"Arial, Helvetica, sans-serif\" size=\"4\">Un polynôme étant une fonction très facile à intégrer, on approche l'intégrale de la fonction f sur l'intervalle [a, b], par l'intégrale de P sur ce même intervalle. On a ainsi, la simple formule :</FONT>\n"
   ]
  },
  {
   "cell_type": "markdown",
   "metadata": {},
   "source": [
    "<img src=\"integral.jpg\" width=500 height=500>"
   ]
  },
  {
   "cell_type": "markdown",
   "metadata": {},
   "source": [
    "<img src=\"Simpson.jpg\" width=500 height=500>"
   ]
  },
  {
   "cell_type": "markdown",
   "metadata": {},
   "source": [
    "<FONT color=\"#6A5ACD\" size=\"8\">Méthode des points milieux:</FONT> "
   ]
  },
  {
   "cell_type": "markdown",
   "metadata": {},
   "source": [
    "<FONT FACE=\"Arial, Helvetica, sans-serif\" size=\"4\">En analyse numérique, la méthode du point médian est une méthode permettant de réaliser le calcul numérique d'une intégrale </FONT>\n",
    "\n"
   ]
  },
  {
   "cell_type": "markdown",
   "metadata": {},
   "source": [
    "<img src=\"int.jpg\" width=100 height=100>"
   ]
  },
  {
   "cell_type": "markdown",
   "metadata": {},
   "source": [
    "<FONT FACE=\"Arial, Helvetica, sans-serif\" size=\"4\">Le principe est d'approcher l'intégrale de la fonction f par l'aire d'un rectangle de base le segment [a,b] et de hauteur </FONT> "
   ]
  },
  {
   "cell_type": "markdown",
   "metadata": {},
   "source": [
    "<img src=\"f.jpg\" width=200 height=200>"
   ]
  },
  {
   "cell_type": "markdown",
   "metadata": {},
   "source": [
    "<FONT FACE=\"Arial, Helvetica, sans-serif\" size=\"4\">ce qui donne : </FONT>"
   ]
  },
  {
   "cell_type": "markdown",
   "metadata": {},
   "source": [
    "<img src=\"R.jpg\" width=300 height=300>"
   ]
  },
  {
   "cell_type": "markdown",
   "metadata": {},
   "source": [
    "<FONT FACE=\"Arial, Helvetica, sans-serif\" size=\"4\">Cette aire est aussi celle du trapèze de base [a,b] et dont le côté opposé est tangent au graphe de f en  c= (a+b)/2 ce qui explique sa relative bonne précision.</FONT>\n"
   ]
  },
  {
   "cell_type": "markdown",
   "metadata": {},
   "source": [
    "<img src=\"ptmilieux.jpg\" width=500 height=500>"
   ]
  },
  {
   "cell_type": "markdown",
   "metadata": {},
   "source": [
    "<FONT color=\"#FFB6C1\" size=\"15\">Partie pratique: </FONT>"
   ]
  },
  {
   "cell_type": "markdown",
   "metadata": {},
   "source": [
    "<img src=\"versionfinal.gif\" width=\"750\" align=\"center\">"
   ]
  },
  {
   "cell_type": "code",
   "execution_count": 23,
   "metadata": {},
   "outputs": [
    {
     "name": "stdout",
     "output_type": "stream",
     "text": [
      "Collecting package metadata (current_repodata.json): ...working... done\n",
      "Solving environment: ...working... done\n",
      "\n",
      "# All requested packages already installed.\n",
      "\n",
      "\n",
      "Note: you may need to restart the kernel to use updated packages.\n"
     ]
    }
   ],
   "source": [
    "conda install -c conda-forge ipympl"
   ]
  },
  {
   "cell_type": "code",
   "execution_count": 24,
   "metadata": {},
   "outputs": [],
   "source": [
    "%matplotlib widget\n",
    "from ipywidgets import interact, interactive, fixed, interact_manual, widgets\n",
    "import matplotlib.pyplot as plt\n",
    "import numpy as np\n",
    "from numpy import *"
   ]
  },
  {
   "cell_type": "code",
   "execution_count": 25,
   "metadata": {},
   "outputs": [],
   "source": [
    "f=lambda x:1/(1+x**2)"
   ]
  },
  {
   "cell_type": "code",
   "execution_count": 26,
   "metadata": {},
   "outputs": [],
   "source": [
    "class RectangleG ( object ) :\n",
    "    def __init__ (self , a , b , n , f, c ,lx , ly ) :\n",
    "        self.a = a\n",
    "        self.b = b\n",
    "        self.x = np.linspace( a , b , n+1 )\n",
    "        self.f = f\n",
    "        self.n = n\n",
    "        self.c = c\n",
    "        self.lx = lx\n",
    "        self.ly = ly\n",
    "    def integrate ( self , f ) :\n",
    "        x= self.x\n",
    "        y= f( x )\n",
    "        h = float( x[1] - x[0] )\n",
    "        s = sum( y[ 0 : -1 ] )\n",
    "        return h * s\n",
    "    def Graph ( self , f ,c,lx,ly, resolution =1001) :\n",
    "        xl = self.x\n",
    "        yl = f(xl)\n",
    "        xlist_fine =np.linspace( self.a , self.b , resolution )\n",
    "        for i in range ( self.n ) :\n",
    "            x_rect = [xl[ i ] , xl[ i ] , xl[ i + 1 ] , xl[i+1] , xl[ i ] ] # abscisses des sommets\n",
    "            y_rect = [0 , yl[ i ] , yl[ i ] , 0 , 0 ] # ordonnees des sommets\n",
    "            plt.plot ( x_rect , y_rect , 'r' )\n",
    "        yflist_fine = f ( xlist_fine )\n",
    "        plt.plot ( xlist_fine , yflist_fine,color=c )\n",
    "        plt.plot(xl, yl,\"bo\")\n",
    "        plt.xlabel (lx)\n",
    "        plt.ylabel (ly)\n",
    "        plt.title ( ' Methode des rectangles gauches' )\n",
    "        plt.text( 0.5*( self.a+ self.b ) , f(self.b ) , 'I_{} ={:0.8f}'.format(self.n,self.integrate( f ) ) , fontsize =10 )\n",
    "    "
   ]
  },
  {
   "cell_type": "code",
   "execution_count": 27,
   "metadata": {},
   "outputs": [],
   "source": [
    "class Trapezoidal(object):\n",
    "    def __init__ (self , a , b , n , f, c ,lx , ly ) :\n",
    "        self.a = a\n",
    "        self.b = b\n",
    "        self.x = np.linspace( a , b , n+1 )\n",
    "        self.f = f\n",
    "        self.n = n\n",
    "        self.c = c\n",
    "        self.lx = lx\n",
    "        self.ly = ly\n",
    "    def integrate(self,f):\n",
    "        x=self.x\n",
    "        y=f(x)\n",
    "        h = float(x[1] - x[0])\n",
    "        s = y[0] + y[-1] + 2.0*sum(y[1:-1])\n",
    "        return h * s / 2.0\n",
    "    def Graph ( self , f ,c,lx,ly, resolution =1001) :\n",
    "        xl = self.x\n",
    "        yl = f(xl)\n",
    "        xlist_fine=np.linspace(self.a, self.b, resolution)\n",
    "        for i in range(self.n):\n",
    "            x_rect = [xl[i], xl[i], xl[i+1], xl[i+1], xl[i]] # abscisses des sommets\n",
    "            y_rect = [0   , yl[i], yl[i+1]  , 0     , 0   ] # ordonnees des sommets\n",
    "            plt.plot(x_rect, y_rect,\"m\")\n",
    "        yflist_fine = f(xlist_fine)\n",
    "        plt.plot(xlist_fine, yflist_fine,color=c)#plot de f(x)\n",
    "        plt.plot(xl, yl,\"cs\")#point support\n",
    "        plt.xlabel(lx)\n",
    "        plt.ylabel (ly)\n",
    "        plt.title ( ' Methode des Trapèzes' )\n",
    "        plt.text( 0.5*( self.a+ self.b ) , f(self.b ) , 'I_{} ={:0.8f}'.format(self.n,self.integrate( f ) ) , fontsize =10 )"
   ]
  },
  {
   "cell_type": "code",
   "execution_count": 28,
   "metadata": {},
   "outputs": [],
   "source": [
    "class Simpson(object):\n",
    "    def __init__ (self , a , b , n , f, c ,lx , ly ) :\n",
    "        self.a = a\n",
    "        self.b = b\n",
    "        self.x = np.linspace( a , b , n+1 )\n",
    "        self.f = f\n",
    "        self.n = n\n",
    "        self.c = c\n",
    "        self.lx = lx\n",
    "        self.ly = ly\n",
    "   \n",
    "    def integrate(self,f):#calculer la somme ((b-a)/6*n)*[f(a)+2*sum(xi)+4*sum(mi)+f(b)]\n",
    "        x=self.x #les points supports xi #x(0)=a-->x(n)=b\n",
    "        y=f(x) #yi variable local y(o)=f(xo)-->y(n)\n",
    "        h = float(x[1] - x[0])#pas h=(b-a)/2*n\n",
    "        n = len(x) - 1#nombre subdivision\n",
    "        if n % 2 == 1:#si le reste de la division =1 impaire\n",
    "            n -= 1\n",
    "        s = y[0] + y[n] + 4.0 * sum(y[1:-1:2]) + 2.0 * sum(y[2:-2:2])\n",
    "        #y[1:-1:2] \n",
    "        #calculer la somme\n",
    "        #T(-1] dernier valeur dans le tableau)\n",
    "        return h * s / 3.0\n",
    "   \n",
    "\n",
    "    def Graph ( self , f ,c,lx,ly, resolution =1001) :\n",
    "        xl = self.x\n",
    "        yl = f(xl)\n",
    "        xlist_fine=np.linspace(self.a, self.b, resolution)\n",
    "        for i in range(self.n):#range intervalle 0 à n\n",
    "            xx=np.linspace(xl[i], xl[i+1], resolution)\n",
    "            #pour chaque subdivisuion  on doit dessiner polynome dnc on doit aussi le subdiviser\n",
    "            m=(xl[i]+xl[i+1])/2#pt milieu\n",
    "            aa=xl[i]#borne gauche\n",
    "            bb=xl[i+1]#borne droite\n",
    "            l0 = (xx-m)/(aa-m)*(xx-bb)/(aa-bb)\n",
    "            l1 = (xx-aa)/(m-aa)*(xx-bb)/(m-bb)\n",
    "            l2 = (xx-aa)/(bb-aa)*(xx-m)/(bb-m)\n",
    "            P = f(aa)*l0 + f(m)*l1 + f(bb)*l2#fonction dde polynome\n",
    "            plt.plot(xx,P,'b')#dessiner polynome d'interpolation\n",
    "            plt.plot(m,f(m),\"r*\")\n",
    "        yflist_fine = f(xlist_fine)\n",
    "        plt.plot(xlist_fine, yflist_fine)#plot de f(x)\n",
    "        plt.plot(xl, yl,\"cs\")#point support\n",
    "        plt.xlabel(lx)\n",
    "        plt.ylabel (ly)\n",
    "        plt.title ( ' Methode de Simpson' )\n",
    "        plt.text( 0.5*( self.a+ self.b ) , f(self.b ) , 'I_{} ={:0.8f}'.format(self.n,self.integrate( f ) ) , fontsize =10 )"
   ]
  },
  {
   "cell_type": "code",
   "execution_count": 29,
   "metadata": {},
   "outputs": [],
   "source": [
    "class Milieux( object ) :\n",
    "    def __init__ (self , a , b , n , f, c ,lx , ly ) :\n",
    "        self.a = a\n",
    "        self.b = b\n",
    "        self.x = np.linspace( a , b , n+1 )\n",
    "        self.f = f\n",
    "        self.n = n\n",
    "        self.c = c\n",
    "        self.lx = lx\n",
    "        self.ly = ly\n",
    "\n",
    "    def integrate(self,f):\n",
    "        h=float(self.b-self.a)/(self.n)\n",
    "        sum1=0\n",
    "        for i in range(self.n):\n",
    "            sum1 += f(self.a+(i+1/2)*h)\n",
    "\n",
    "        I = h*sum1\n",
    "        return I\n",
    "\n",
    "    def Graph ( self , f ,c,lx,ly, resolution =1001) :\n",
    "        xl = self.x\n",
    "        yl = f(xl)\n",
    "        xlist_fine =np.linspace( self.a , self.b , resolution )\n",
    "        for i in range ( self.n ) :\n",
    "            mi=(xl[i]+xl[i+1])/2\n",
    "            x_rect = [xl[i], xl[i], xl[i+1], xl[i+1], xl[i]] # abscisses des sommets\n",
    "            y_rect = [0 , f(mi), f(mi) , 0 , 0 ] # ordonnees des sommets\n",
    "            plt.plot ( x_rect , y_rect , 'r' )\n",
    "            plt.plot(mi,f(mi), 'g*')\n",
    "        yflist_fine = f ( xlist_fine )\n",
    "        plt.plot ( xlist_fine , yflist_fine,color=c )\n",
    "        #plt.plot(xl, yl,\"bo\")\n",
    "        plt.xlabel ( lx )\n",
    "        plt.ylabel ( ly )\n",
    "        plt.title ( ' Methode de Milieux' )\n",
    "        plt.text( 0.5*( self.a+ self.b ) , f(self.b ) , 'I_{} ={:0.8f}'.format(self.n,self.integrate( f ) ) , fontsize =10 )"
   ]
  },
  {
   "cell_type": "code",
   "execution_count": 30,
   "metadata": {},
   "outputs": [],
   "source": [
    "def sim(a,b,n,f,i,x,y):\n",
    "    R=RectangleG(a,b,n,f,i,x,y)\n",
    "    T=Trapezoidal(a,b,n,f,i,x,y)\n",
    "    M=Milieux(a,b,n,f,i,x,y)\n",
    "    S=Simpson(a,b,n,f,i,x,y)\n",
    "\n",
    "    plt.subplot(221)  \n",
    "    R.Graph(f,i,x,y)\n",
    "    plt.subplot(222)\n",
    "    T.Graph(f,i,x,y)\n",
    "    plt.subplot(223)\n",
    "    M.Graph(f,i,x,y)\n",
    "    plt.subplot(224)\n",
    "    S.Graph(f,i,x,y)\n",
    "    plt.show()"
   ]
  },
  {
   "cell_type": "code",
   "execution_count": 31,
   "metadata": {},
   "outputs": [],
   "source": [
    "output = widgets.Output() \n",
    "with output:\n",
    "    fig= plt.figure(figsize=(6,6))\n",
    "\n",
    "fig.canvas.toolbar_position = 'bottom' "
   ]
  },
  {
   "cell_type": "code",
   "execution_count": 32,
   "metadata": {},
   "outputs": [],
   "source": [
    "# create some control elements\n",
    "int_slider = widgets.IntSlider(value=1, min=0, max=10, step=1, description='N')\n",
    "color_picker = widgets.ColorPicker(value=\"blue\", description='pick a color')\n",
    "text_a= widgets.IntText(value=-1, description='Donner A', continuous_update=False)\n",
    "text_b = widgets.IntText(value=1, description='Donner B', continuous_update=False)\n",
    "select = widgets.Dropdown(options={'1/(1+x**2)':lambda x:1/(1+x**2),\n",
    "                                    'sin(x)':lambda x: sin(x),\n",
    "                                    'cos(x)':lambda x:cos(x),\n",
    "                                    'tan(x)':lambda x:tan(x),\n",
    "                                    '1/(1+x)':lambda x:1/(1+x),\n",
    "                                    'x**2-x+5':lambda x:x**2-x+5},description='Choisir une fonction') \n",
    "text_xlabel = widgets.Text(value='x', description='xlabel', continuous_update=False)\n",
    "text_ylabel = widgets.Text(value='f(x)', description='ylabel', continuous_update=False)\n",
    "button = widgets.Button(description=\"Afficher\")\n",
    "\n",
    "# callback functions\n",
    "def update(change):\n",
    "    \"\"\"redraw line (update plot)\"\"\"\n",
    "    fig.clear() \n",
    "    sim(text_a.value,text_b.value,int_slider.value,select.value,color_picker.value,text_xlabel.value,text_ylabel.value)\n",
    "   \n",
    "def line_color(change):\n",
    "    \"\"\"set line color\"\"\"\n",
    "    fig.clear()\n",
    "    sim(text_a.value,text_b.value,int_slider.value,select.value,color_picker.value,text_xlabel.value,text_ylabel.value)\n",
    "    \n",
    "def update_xlabel(change):\n",
    "    fig.clear()\n",
    "    sim(text_a.value,text_b.value,int_slider.value,select.value,color_picker.value,change.new,text_ylabel.value)\n",
    "def update_ylabel(change):\n",
    "    fig.clear()\n",
    "    sim(text_a.value,text_b.value,int_slider.value,select.value,color_picker.value,text_xlabel.value,change.new)\n",
    "def on_button_clicked(b):\n",
    "    with output:\n",
    "        fig.clear()\n",
    "        sim(text_a.value,text_b.value,int_slider.value,select.value,color_picker.value,text_xlabel.value,text_ylabel.value)\n",
    "\n",
    "int_slider.observe(update, 'value')\n",
    "color_picker.observe(line_color, 'value')\n",
    "text_xlabel.observe(update_xlabel, 'value')\n",
    "text_ylabel.observe(update_ylabel, 'value')"
   ]
  },
  {
   "cell_type": "code",
   "execution_count": 33,
   "metadata": {},
   "outputs": [
    {
     "data": {
      "application/vnd.jupyter.widget-view+json": {
       "model_id": "fcc39a0459974abba5bbc8f371143420",
       "version_major": 2,
       "version_minor": 0
      },
      "text/plain": [
       "HBox(children=(VBox(children=(IntSlider(value=1, description='N', max=10), ColorPicker(value='blue', descripti…"
      ]
     },
     "metadata": {},
     "output_type": "display_data"
    }
   ],
   "source": [
    "controls = widgets.VBox([int_slider, color_picker,text_a, text_b,select,text_xlabel, text_ylabel,button])\n",
    "button.on_click(on_button_clicked)\n",
    "widgets.HBox([controls, output])"
   ]
  },
  {
   "cell_type": "code",
   "execution_count": null,
   "metadata": {},
   "outputs": [],
   "source": []
  }
 ],
 "metadata": {
  "kernelspec": {
   "display_name": "Python 3",
   "language": "python",
   "name": "python3"
  },
  "language_info": {
   "codemirror_mode": {
    "name": "ipython",
    "version": 3
   },
   "file_extension": ".py",
   "mimetype": "text/x-python",
   "name": "python",
   "nbconvert_exporter": "python",
   "pygments_lexer": "ipython3",
   "version": "3.8.3"
  }
 },
 "nbformat": 4,
 "nbformat_minor": 4
}
